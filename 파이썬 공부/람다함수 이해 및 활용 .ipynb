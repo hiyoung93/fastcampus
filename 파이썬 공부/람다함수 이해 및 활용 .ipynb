{
 "cells": [
  {
   "cell_type": "code",
   "execution_count": 1,
   "metadata": {},
   "outputs": [
    {
     "name": "stdout",
     "output_type": "stream",
     "text": [
      "[9, 8, 10, 7, 12, 15, 2, 6]\n",
      "[2, 6, 7, 8, 9, 10, 12, 15]\n"
     ]
    }
   ],
   "source": [
    "a = [9, 8, 10, 7, 12, 15, 2, 6]\n",
    "print(a)\n",
    "a.sort() # a를 순서대로 만들어 준다.\n",
    "\n",
    "print(a)"
   ]
  },
  {
   "cell_type": "markdown",
   "metadata": {},
   "source": [
    "### 01의 자리수로 정렬하기 "
   ]
  },
  {
   "cell_type": "code",
   "execution_count": 5,
   "metadata": {},
   "outputs": [
    {
     "name": "stdout",
     "output_type": "stream",
     "text": [
      "2\n",
      "4\n",
      "6\n"
     ]
    }
   ],
   "source": [
    "def  digit(x):\n",
    "    return x % 10\n",
    "# x 을 10으로 나누고 나머지 값만가져오기\n",
    "print(digit(12))\n",
    "print(digit(24))\n",
    "print(digit(36))"
   ]
  },
  {
   "cell_type": "code",
   "execution_count": 6,
   "metadata": {},
   "outputs": [
    {
     "name": "stdout",
     "output_type": "stream",
     "text": [
      "[9, 8, 10, 7, 12, 15, 2, 6]\n",
      "[10, 12, 2, 15, 6, 7, 8, 9]\n"
     ]
    }
   ],
   "source": [
    "a = [9, 8, 10, 7, 12, 15, 2, 6]\n",
    "print(a)\n",
    "\n",
    "def digit(x):\n",
    "    return x % 10\n",
    "\n",
    "a.sort(key=digit)\n",
    "\n",
    "print(a)"
   ]
  },
  {
   "cell_type": "markdown",
   "metadata": {},
   "source": [
    "## Lambda 함수"
   ]
  },
  {
   "cell_type": "code",
   "execution_count": 7,
   "metadata": {},
   "outputs": [
    {
     "name": "stdout",
     "output_type": "stream",
     "text": [
      "16\n",
      "36\n"
     ]
    }
   ],
   "source": [
    "def square(x):\n",
    "    return x*x\n",
    "\n",
    "print(square(4))\n",
    "print(square(6))"
   ]
  },
  {
   "cell_type": "code",
   "execution_count": 8,
   "metadata": {},
   "outputs": [
    {
     "name": "stdout",
     "output_type": "stream",
     "text": [
      "16\n",
      "25\n"
     ]
    }
   ],
   "source": [
    "square2 = lambda x:x*x\n",
    "print(square2(4))\n",
    "print(square2(5))"
   ]
  },
  {
   "cell_type": "code",
   "execution_count": 9,
   "metadata": {},
   "outputs": [
    {
     "name": "stdout",
     "output_type": "stream",
     "text": [
      "[9, 8, 10, 7, 12, 15, 2, 6]\n",
      "[10, 12, 2, 15, 6, 7, 8, 9]\n"
     ]
    }
   ],
   "source": [
    "a = [9, 8, 10, 7, 12, 15, 2, 6]\n",
    "print(a)\n",
    "\n",
    "a.sort(key=lambda x:x%10)\n",
    "\n",
    "print(a)"
   ]
  },
  {
   "cell_type": "markdown",
   "metadata": {},
   "source": [
    "## filter\n",
    "- 리스트 원소 필터링"
   ]
  },
  {
   "cell_type": "code",
   "execution_count": 11,
   "metadata": {},
   "outputs": [
    {
     "name": "stdout",
     "output_type": "stream",
     "text": [
      "False\n"
     ]
    }
   ],
   "source": [
    "def even(x):\n",
    "    return x % 2 == 0\n",
    "\n",
    "print(even(101))"
   ]
  },
  {
   "cell_type": "code",
   "execution_count": 13,
   "metadata": {},
   "outputs": [
    {
     "name": "stdout",
     "output_type": "stream",
     "text": [
      "[8, 10, 12, 2, 6]\n"
     ]
    }
   ],
   "source": [
    "a = [9, 8, 10, 7, 12, 15, 2, 6]\n",
    "\n",
    "b = list(filter(even, a))\n",
    "print(b)"
   ]
  },
  {
   "cell_type": "code",
   "execution_count": 14,
   "metadata": {},
   "outputs": [
    {
     "name": "stdout",
     "output_type": "stream",
     "text": [
      "[8, 10, 12, 2, 6]\n"
     ]
    }
   ],
   "source": [
    "a = [9, 8, 10, 7, 12, 15, 2, 6]\n",
    "b = list(filter(lambda y:y%2 == 0, a))\n",
    "print(b)"
   ]
  },
  {
   "cell_type": "code",
   "execution_count": 15,
   "metadata": {},
   "outputs": [
    {
     "name": "stdout",
     "output_type": "stream",
     "text": [
      "[12, 15]\n"
     ]
    }
   ],
   "source": [
    "a = [9, 8, 10, 7, 12, 15, 2, 6]\n",
    "b = list(filter(lambda i:i>10, a))\n",
    "print(b)"
   ]
  },
  {
   "cell_type": "markdown",
   "metadata": {},
   "source": [
    "### 연습문제\n",
    " 1. 리스트를 입력받아서 짝수만 반환\n",
    " 2. 주어진 수가 소수인지 아닌지 판단\n",
    " 3. 주어진 문자열에서 모음의 개수를 출력"
   ]
  },
  {
   "cell_type": "code",
   "execution_count": 58,
   "metadata": {},
   "outputs": [
    {
     "name": "stdout",
     "output_type": "stream",
     "text": [
      "[4, 6]\n"
     ]
    }
   ],
   "source": [
    "a = [3,4,5,6,7,9]\n",
    "d = list(filter(lambda i:i % 2 == 0, a))\n",
    "print(d)"
   ]
  },
  {
   "cell_type": "code",
   "execution_count": 60,
   "metadata": {},
   "outputs": [
    {
     "name": "stdout",
     "output_type": "stream",
     "text": [
      "39 23\n",
      "10 30\n"
     ]
    }
   ],
   "source": [
    "# 변수를 만든 것\n",
    "num1 = 10\n",
    "num2 = 30\n",
    "# 함수를 만든 파라미터와, 변수의 값은 같은 이름이라도 가지고 있는 값은 다르다\n",
    "def test(num1, num2):\n",
    "    print(num1, num2)\n",
    "    return num1 + num2\n",
    "test(39, 23)\n",
    "\n",
    "print(num1, num2)"
   ]
  },
  {
   "cell_type": "code",
   "execution_count": 61,
   "metadata": {},
   "outputs": [
    {
     "name": "stdout",
     "output_type": "stream",
     "text": [
      "<class 'tuple'>\n"
     ]
    }
   ],
   "source": [
    "# *를 붙이게 되먄 \n",
    "# 가변길이 파라미터는 튜플로 인식한다\n",
    "def test(*args) : # arguments\n",
    "    for item in args:\n",
    "        print(item)\n",
    "test(20)"
   ]
  },
  {
   "cell_type": "code",
   "execution_count": 62,
   "metadata": {},
   "outputs": [],
   "source": [
    "# 가변길이 키워드파라미터는 **을 두개사용\n",
    "# dict로 인식한다"
   ]
  },
  {
   "cell_type": "code",
   "execution_count": 64,
   "metadata": {},
   "outputs": [
    {
     "name": "stdout",
     "output_type": "stream",
     "text": [
      "key: a value: 1\n",
      "key: b value: 3\n",
      "key: c value: 4\n",
      "key: d value: 2\n",
      "key: name value: Bod\n"
     ]
    }
   ],
   "source": [
    "def test2(**x):\n",
    "    for key, value in x.items():\n",
    "        print('key:',key, 'value:',value)\n",
    "\n",
    "test2(a=1, b=3, c=4, d=2, name= 'Bod')"
   ]
  },
  {
   "cell_type": "markdown",
   "metadata": {},
   "source": [
    "- 가변길이 함수의 대표적인 예 **문자열포맷팅**\n"
   ]
  },
  {
   "cell_type": "code",
   "execution_count": 66,
   "metadata": {},
   "outputs": [
    {
     "name": "stdout",
     "output_type": "stream",
     "text": [
      "오늘 온도: 30도, 강수확룰은: 20%\n"
     ]
    }
   ],
   "source": [
    "a = '오늘 온도: {}도, 강수확룰은: {}%'.format(30, 20)\n",
    "print(a)"
   ]
  },
  {
   "cell_type": "code",
   "execution_count": 71,
   "metadata": {},
   "outputs": [
    {
     "name": "stdout",
     "output_type": "stream",
     "text": [
      "오늘 온도: 34도, 강수확룰은: 20%, 내일은: 30도\n"
     ]
    }
   ],
   "source": [
    "a = '오늘 온도: {today_temp}도, 강수확룰은: {today_prob}%, 내일은: {tomorrow_temp}도'\\\n",
    "    .format(tomorrow_temp=30, today_prob=20, today_temp=34)\n",
    "print(a)"
   ]
  },
  {
   "cell_type": "code",
   "execution_count": null,
   "metadata": {},
   "outputs": [],
   "source": []
  },
  {
   "cell_type": "code",
   "execution_count": 72,
   "metadata": {},
   "outputs": [
    {
     "data": {
      "text/plain": [
       "4"
      ]
     },
     "execution_count": 72,
     "metadata": {},
     "output_type": "execute_result"
    }
   ],
   "source": [
    "def str_len(s):\n",
    "    return len(s)\n",
    "\n",
    "str_len('test')"
   ]
  },
  {
   "cell_type": "code",
   "execution_count": 73,
   "metadata": {},
   "outputs": [
    {
     "name": "stdout",
     "output_type": "stream",
     "text": [
      "['bob', 'teddy', 'charles', 'alexander3']\n"
     ]
    }
   ],
   "source": [
    "strings = ['bob','charles','alexander3','teddy']\n",
    "# strings.sort(key=str_len)\n",
    "strings.sort(key=lambda s:len(s))\n",
    "\n",
    "print(strings)"
   ]
  },
  {
   "cell_type": "code",
   "execution_count": null,
   "metadata": {},
   "outputs": [],
   "source": []
  }
 ],
 "metadata": {
  "kernelspec": {
   "display_name": "Python 3",
   "language": "python",
   "name": "python3"
  },
  "language_info": {
   "codemirror_mode": {
    "name": "ipython",
    "version": 3
   },
   "file_extension": ".py",
   "mimetype": "text/x-python",
   "name": "python",
   "nbconvert_exporter": "python",
   "pygments_lexer": "ipython3",
   "version": "3.7.3"
  }
 },
 "nbformat": 4,
 "nbformat_minor": 2
}
