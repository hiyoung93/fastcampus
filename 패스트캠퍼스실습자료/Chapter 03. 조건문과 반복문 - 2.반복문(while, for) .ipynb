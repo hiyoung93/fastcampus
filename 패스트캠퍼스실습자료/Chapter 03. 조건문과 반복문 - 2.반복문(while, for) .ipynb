{
 "cells": [
  {
   "cell_type": "markdown",
   "metadata": {},
   "source": [
    "### While keyword"
   ]
  },
  {
   "cell_type": "code",
   "execution_count": null,
   "metadata": {},
   "outputs": [],
   "source": [
    "a = [1, 2, 3, 4]\n",
    "i = 0\n",
    "\n",
    "while i < len(a):\n",
    "    print(a[i])\n",
    "    \n",
    "    i += 1"
   ]
  },
  {
   "cell_type": "markdown",
   "metadata": {},
   "source": [
    "### break, continue"
   ]
  },
  {
   "cell_type": "markdown",
   "metadata": {},
   "source": [
    "#### break"
   ]
  },
  {
   "cell_type": "code",
   "execution_count": null,
   "metadata": {},
   "outputs": [],
   "source": [
    "a = [1, 2, 3, 4, 5]\n",
    "i = 0\n",
    "\n",
    "while i < len(a):\n",
    "    if a[i] % 2 == 0:\n",
    "        print('break')\n",
    "        break\n",
    "        \n",
    "    print(a[i])\n",
    "    i += 1\n",
    "    \n",
    "print('while문 종료')"
   ]
  },
  {
   "cell_type": "markdown",
   "metadata": {},
   "source": [
    "#### continue"
   ]
  },
  {
   "cell_type": "code",
   "execution_count": null,
   "metadata": {},
   "outputs": [],
   "source": [
    "a = 6\n",
    "while a > 0:\n",
    "    a -= 1\n",
    "    if a == 3:\n",
    "        continue\n",
    "        \n",
    "    print('current value: ', a)"
   ]
  },
  {
   "cell_type": "markdown",
   "metadata": {},
   "source": [
    "### 짝수 홀수 분리"
   ]
  },
  {
   "cell_type": "code",
   "execution_count": null,
   "metadata": {},
   "outputs": [],
   "source": [
    "a = [1, 2, 3, 4, 5, 6, 7, 8]\n",
    "i = 0\n",
    "\n",
    "even_nums = []\n",
    "odd_nums = []\n",
    "\n",
    "while i < len(a):\n",
    "    if a[i] % 2 == 0:\n",
    "        even_nums.append(a[i])\n",
    "    else:\n",
    "        odd_nums.append(a[i])\n",
    "        \n",
    "    i += 1\n",
    "    \n",
    "print(even_nums)\n",
    "print(odd_nums)\n"
   ]
  },
  {
   "cell_type": "markdown",
   "metadata": {},
   "source": [
    "### for"
   ]
  },
  {
   "cell_type": "code",
   "execution_count": null,
   "metadata": {},
   "outputs": [],
   "source": [
    "a = [10, 2, 30, 4, 5]\n",
    "for num in a:\n",
    "    print(num)"
   ]
  },
  {
   "cell_type": "markdown",
   "metadata": {},
   "source": [
    "### enumerate"
   ]
  },
  {
   "cell_type": "code",
   "execution_count": null,
   "metadata": {},
   "outputs": [],
   "source": [
    "a = [10, 2, 30, 4, 5]\n",
    "for i, num in enumerate(a):\n",
    "    print(i, num)\n",
    "    "
   ]
  },
  {
   "cell_type": "markdown",
   "metadata": {},
   "source": [
    "### 중첩 반복\n",
    " - 구구단"
   ]
  },
  {
   "cell_type": "code",
   "execution_count": null,
   "metadata": {},
   "outputs": [],
   "source": [
    "2 1 2\n",
    "2 2 4\n",
    "...\n",
    "2 9 18\n",
    "\n",
    "3 1 3\n",
    "3 2 6\n",
    "...\n",
    "3 9 27\n",
    "\n",
    "9 1 9\n",
    "...\n",
    "9 9 81\n"
   ]
  },
  {
   "cell_type": "code",
   "execution_count": null,
   "metadata": {},
   "outputs": [],
   "source": [
    "a = [2, 3, 4, 5, 6, 7, 8, 9]\n",
    "b = [1, 2, 3, 4, 5, 6, 7, 8, 9]\n",
    "\n",
    "for x in a:\n",
    "    for y in b:\n",
    "        print(x,'*', y, '=', x * y)\n",
    "    print('-' * 50)"
   ]
  },
  {
   "cell_type": "markdown",
   "metadata": {},
   "source": [
    "### range 함수"
   ]
  },
  {
   "cell_type": "code",
   "execution_count": null,
   "metadata": {},
   "outputs": [],
   "source": [
    "# a = [1, 2, 3, 4, 5, 6, 7, 8, 9, 10, 11, .. 100]\n",
    "print(range(101))"
   ]
  },
  {
   "cell_type": "code",
   "execution_count": null,
   "metadata": {},
   "outputs": [],
   "source": [
    "print(list(range(101)))"
   ]
  },
  {
   "cell_type": "code",
   "execution_count": null,
   "metadata": {},
   "outputs": [],
   "source": [
    "print(list(range(1, 101)))"
   ]
  },
  {
   "cell_type": "code",
   "execution_count": null,
   "metadata": {},
   "outputs": [],
   "source": [
    "print(list(range(1, 101, 2)))"
   ]
  },
  {
   "cell_type": "markdown",
   "metadata": {},
   "source": [
    "### 1 - 100 사이의 5 배수만 갖는 리스트 생성"
   ]
  },
  {
   "cell_type": "code",
   "execution_count": null,
   "metadata": {},
   "outputs": [],
   "source": [
    "print(list(range(5, 101, 5)))"
   ]
  },
  {
   "cell_type": "code",
   "execution_count": null,
   "metadata": {},
   "outputs": [],
   "source": [
    "a = [1, 2, 3]"
   ]
  },
  {
   "cell_type": "markdown",
   "metadata": {},
   "source": [
    "### 연습문제\n",
    "1. 6277이 소수(나머지가 1과 자기자신만 있는 수)인지 아닌지 판단하시오\n",
    "2. 주어진 리스트의 평균을 구하시오\n",
    "3. 주어진 리스트에서 최대값, 최소값을 찾으시오(sort 사용하지 말고 작성)"
   ]
  },
  {
   "cell_type": "code",
   "execution_count": null,
   "metadata": {},
   "outputs": [],
   "source": [
    "# 1. 2부터 6276까지 순회\n",
    "# 2. 6277을 각 수로 나눠서 \n",
    "#  2-1 나눠 떨어지는 경우가 한번이라도 있다면 - 소수가 아님(합성수)\n",
    "#  2-2 한번도 없으면 소수\n",
    "\n",
    "result = ''\n",
    "nums = list(range(2, 6277))\n",
    "for x in nums:\n",
    "    if 6277 % x == 0:\n",
    "        result = '합성수'\n",
    "        break\n",
    "    else:\n",
    "        result = '소수'\n",
    "        \n",
    "print(result)\n",
    "        \n"
   ]
  },
  {
   "cell_type": "code",
   "execution_count": null,
   "metadata": {},
   "outputs": [],
   "source": [
    "result = '소수'\n",
    "\n",
    "nums = list(range(2, 6277))\n",
    "for x in nums:\n",
    "    if 6277 % x == 0:\n",
    "        result = '합성수'\n",
    "        break\n",
    "        \n",
    "print(result)"
   ]
  },
  {
   "cell_type": "code",
   "execution_count": null,
   "metadata": {},
   "outputs": [],
   "source": [
    "a = [2, 3, 6, 17, 92, 34]\n",
    "i = 0\n",
    "_sum = 0\n",
    "\n",
    "while i < len(a):\n",
    "    _sum += a[i]\n",
    "    i += 1\n",
    "    \n",
    "print(_sum / i)\n",
    "print(_sum / lensum(a) / len(a)(a))\n",
    "\n",
    "print() # sum 함수 이용하기"
   ]
  },
  {
   "cell_type": "code",
   "execution_count": null,
   "metadata": {},
   "outputs": [],
   "source": [
    "a = [2, 3, 6, 17, 1, 92, 34]\n",
    "\n",
    "# 최소값을 가장 첫번째 값 가정\n",
    "# 각 아이템 순회하면서 현재 최소값보다 작은 값을 만나면 최소값을 그 값으로 업데이트 \n",
    "\n",
    "_min = a[0]\n",
    "for x in a[1:]:\n",
    "    if x < _min:\n",
    "        _min = x\n",
    "        \n",
    "_max = a[0]\n",
    "for x in a[1:]:\n",
    "    if x > _max:\n",
    "        _max = x\n",
    "        \n",
    "print(_min, _max)"
   ]
  },
  {
   "cell_type": "code",
   "execution_count": null,
   "metadata": {},
   "outputs": [],
   "source": [
    "_min = a[0]\n",
    "_max = a[0]\n",
    "\n",
    "for x in a[1:]:\n",
    "    if x < _min:\n",
    "        _min = x\n",
    "    if x > _max:\n",
    "        _max = x\n",
    "print(_min, _max)"
   ]
  },
  {
   "cell_type": "code",
   "execution_count": null,
   "metadata": {},
   "outputs": [],
   "source": []
  },
  {
   "cell_type": "code",
   "execution_count": null,
   "metadata": {},
   "outputs": [],
   "source": []
  },
  {
   "cell_type": "code",
   "execution_count": null,
   "metadata": {},
   "outputs": [],
   "source": []
  },
  {
   "cell_type": "code",
   "execution_count": null,
   "metadata": {},
   "outputs": [],
   "source": []
  },
  {
   "cell_type": "code",
   "execution_count": null,
   "metadata": {},
   "outputs": [],
   "source": []
  },
  {
   "cell_type": "code",
   "execution_count": null,
   "metadata": {},
   "outputs": [],
   "source": []
  },
  {
   "cell_type": "code",
   "execution_count": null,
   "metadata": {},
   "outputs": [],
   "source": []
  },
  {
   "cell_type": "code",
   "execution_count": null,
   "metadata": {},
   "outputs": [],
   "source": []
  },
  {
   "cell_type": "code",
   "execution_count": null,
   "metadata": {},
   "outputs": [],
   "source": []
  },
  {
   "cell_type": "code",
   "execution_count": null,
   "metadata": {},
   "outputs": [],
   "source": []
  },
  {
   "cell_type": "code",
   "execution_count": null,
   "metadata": {},
   "outputs": [],
   "source": []
  },
  {
   "cell_type": "code",
   "execution_count": null,
   "metadata": {},
   "outputs": [],
   "source": []
  },
  {
   "cell_type": "code",
   "execution_count": null,
   "metadata": {},
   "outputs": [],
   "source": []
  },
  {
   "cell_type": "code",
   "execution_count": null,
   "metadata": {},
   "outputs": [],
   "source": []
  },
  {
   "cell_type": "code",
   "execution_count": null,
   "metadata": {},
   "outputs": [],
   "source": []
  },
  {
   "cell_type": "code",
   "execution_count": null,
   "metadata": {},
   "outputs": [],
   "source": []
  },
  {
   "cell_type": "code",
   "execution_count": null,
   "metadata": {},
   "outputs": [],
   "source": []
  },
  {
   "cell_type": "code",
   "execution_count": null,
   "metadata": {},
   "outputs": [],
   "source": []
  },
  {
   "cell_type": "code",
   "execution_count": null,
   "metadata": {},
   "outputs": [],
   "source": []
  },
  {
   "cell_type": "code",
   "execution_count": null,
   "metadata": {},
   "outputs": [],
   "source": []
  },
  {
   "cell_type": "code",
   "execution_count": null,
   "metadata": {},
   "outputs": [],
   "source": []
  },
  {
   "cell_type": "code",
   "execution_count": null,
   "metadata": {},
   "outputs": [],
   "source": []
  },
  {
   "cell_type": "code",
   "execution_count": null,
   "metadata": {},
   "outputs": [],
   "source": []
  },
  {
   "cell_type": "code",
   "execution_count": null,
   "metadata": {},
   "outputs": [],
   "source": []
  },
  {
   "cell_type": "code",
   "execution_count": null,
   "metadata": {},
   "outputs": [],
   "source": []
  },
  {
   "cell_type": "code",
   "execution_count": null,
   "metadata": {},
   "outputs": [],
   "source": []
  },
  {
   "cell_type": "code",
   "execution_count": null,
   "metadata": {},
   "outputs": [],
   "source": []
  },
  {
   "cell_type": "code",
   "execution_count": null,
   "metadata": {},
   "outputs": [],
   "source": []
  },
  {
   "cell_type": "code",
   "execution_count": null,
   "metadata": {},
   "outputs": [],
   "source": [
    "b"
   ]
  }
 ],
 "metadata": {
  "kernelspec": {
   "display_name": "Python 3",
   "language": "python",
   "name": "python3"
  },
  "language_info": {
   "codemirror_mode": {
    "name": "ipython",
    "version": 3
   },
   "file_extension": ".py",
   "mimetype": "text/x-python",
   "name": "python",
   "nbconvert_exporter": "python",
   "pygments_lexer": "ipython3",
   "version": "3.6.5"
  }
 },
 "nbformat": 4,
 "nbformat_minor": 2
}
